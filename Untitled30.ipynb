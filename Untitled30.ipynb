{
  "nbformat": 4,
  "nbformat_minor": 0,
  "metadata": {
    "colab": {
      "name": "Untitled30.ipynb",
      "provenance": [],
      "collapsed_sections": [],
      "authorship_tag": "ABX9TyP0NsdxppGW0nCZUht/qLty",
      "include_colab_link": true
    },
    "kernelspec": {
      "name": "python3",
      "display_name": "Python 3"
    },
    "language_info": {
      "name": "python"
    }
  },
  "cells": [
    {
      "cell_type": "markdown",
      "metadata": {
        "id": "view-in-github",
        "colab_type": "text"
      },
      "source": [
        "<a href=\"https://colab.research.google.com/github/Sofil1886/Finance/blob/main/Untitled30.ipynb\" target=\"_parent\"><img src=\"https://colab.research.google.com/assets/colab-badge.svg\" alt=\"Open In Colab\"/></a>"
      ]
    },
    {
      "cell_type": "code",
      "execution_count": null,
      "metadata": {
        "colab": {
          "base_uri": "https://localhost:8080/"
        },
        "id": "Rty2--2SVb21",
        "outputId": "91ef8e4d-1814-4cf8-e8c9-1f5cb727156b"
      },
      "outputs": [
        {
          "output_type": "stream",
          "name": "stdout",
          "text": [
            "Requirement already satisfied: python-edgar in /usr/local/lib/python3.7/dist-packages (3.1.3)\n"
          ]
        }
      ],
      "source": [
        "\n",
        "import edgar\n",
        "edgar.download_index(r\"C:\\Users\\Ivan\\Desktop\",2018,\"ivan.sofilkanich.99@gmail.com\",skip_all_present_except_last=False)\n",
        "!pip install python-edgar"
      ]
    },
    {
      "cell_type": "code",
      "source": [
        "import pandas as pd"
      ],
      "metadata": {
        "id": "dVsyY0z35z8d"
      },
      "execution_count": null,
      "outputs": []
    },
    {
      "cell_type": "code",
      "source": [
        "selectedcompany = \"ELECTRONIC ARTS INC\"\n",
        "selectedreport='10-Q'\n",
        "csv = pd.read_csv(r'/content/C:\\Users\\Ivan\\Desktop/2019-QTR4.tsv', sep = '\\t', lineterminator='\\n', names=None)\n",
        "\n",
        "csv.columns.values[0] = 'Item'\n",
        "companyreport = csv[(csv['Item'].str.contains(selectedcompany)) & (csv['Item'].str.contains(selectedreport))]\n"
      ],
      "metadata": {
        "id": "UveK7BePmlOX"
      },
      "execution_count": null,
      "outputs": []
    },
    {
      "cell_type": "code",
      "source": [
        "Filing = companyreport['Item'].str.split('|')\n",
        "Filing = Filing.to_list()\n",
        "Filing"
      ],
      "metadata": {
        "colab": {
          "base_uri": "https://localhost:8080/"
        },
        "id": "FrAR8xgM74CJ",
        "outputId": "77442bff-8c2b-4e7c-f778-95b3e616df67"
      },
      "execution_count": null,
      "outputs": [
        {
          "output_type": "execute_result",
          "data": {
            "text/plain": [
              "[['712515',\n",
              "  'ELECTRONIC ARTS INC.',\n",
              "  '10-Q',\n",
              "  '2019-11-06',\n",
              "  'edgar/data/712515/0000712515-19-000129.txt',\n",
              "  'edgar/data/712515/0000712515-19-000129-index.html']]"
            ]
          },
          "metadata": {},
          "execution_count": 69
        }
      ]
    },
    {
      "cell_type": "code",
      "source": [
        "for item in Filing[0]:\n",
        "  if 'html'in item:\n",
        "    report = item\n",
        "url = 'https://www.sec.gov/Archives/'+ report\n",
        "url"
      ],
      "metadata": {
        "colab": {
          "base_uri": "https://localhost:8080/",
          "height": 35
        },
        "id": "YlsWYP6cM_pZ",
        "outputId": "df0d9a45-0e2f-4653-c1fa-8014cb2d402f"
      },
      "execution_count": null,
      "outputs": [
        {
          "output_type": "execute_result",
          "data": {
            "text/plain": [
              "'https://www.sec.gov/Archives/edgar/data/712515/0000712515-19-000129-index.html'"
            ],
            "application/vnd.google.colaboratory.intrinsic+json": {
              "type": "string"
            }
          },
          "metadata": {},
          "execution_count": 70
        }
      ]
    },
    {
      "cell_type": "code",
      "source": [
        "df = pd.read_html(url)"
      ],
      "metadata": {
        "colab": {
          "base_uri": "https://localhost:8080/",
          "height": 311
        },
        "id": "GMyjcVOLAYyy",
        "outputId": "379707e9-7cc2-4805-84e3-290cd87f9b0d"
      },
      "execution_count": null,
      "outputs": [
        {
          "output_type": "error",
          "ename": "HTTPError",
          "evalue": "ignored",
          "traceback": [
            "\u001b[0;31m---------------------------------------------------------------------------\u001b[0m",
            "\u001b[0;31mHTTPError\u001b[0m                                 Traceback (most recent call last)",
            "\u001b[0;32m<ipython-input-71-0a00aa54acda>\u001b[0m in \u001b[0;36m<module>\u001b[0;34m()\u001b[0m\n\u001b[0;32m----> 1\u001b[0;31m \u001b[0mdf\u001b[0m \u001b[0;34m=\u001b[0m \u001b[0mpd\u001b[0m\u001b[0;34m.\u001b[0m\u001b[0mread_html\u001b[0m\u001b[0;34m(\u001b[0m\u001b[0murl\u001b[0m\u001b[0;34m)\u001b[0m\u001b[0;34m\u001b[0m\u001b[0;34m\u001b[0m\u001b[0m\n\u001b[0m",
            "\u001b[0;32m/usr/local/lib/python3.7/dist-packages/pandas/util/_decorators.py\u001b[0m in \u001b[0;36mwrapper\u001b[0;34m(*args, **kwargs)\u001b[0m\n\u001b[1;32m    309\u001b[0m                     \u001b[0mstacklevel\u001b[0m\u001b[0;34m=\u001b[0m\u001b[0mstacklevel\u001b[0m\u001b[0;34m,\u001b[0m\u001b[0;34m\u001b[0m\u001b[0;34m\u001b[0m\u001b[0m\n\u001b[1;32m    310\u001b[0m                 )\n\u001b[0;32m--> 311\u001b[0;31m             \u001b[0;32mreturn\u001b[0m \u001b[0mfunc\u001b[0m\u001b[0;34m(\u001b[0m\u001b[0;34m*\u001b[0m\u001b[0margs\u001b[0m\u001b[0;34m,\u001b[0m \u001b[0;34m**\u001b[0m\u001b[0mkwargs\u001b[0m\u001b[0;34m)\u001b[0m\u001b[0;34m\u001b[0m\u001b[0;34m\u001b[0m\u001b[0m\n\u001b[0m\u001b[1;32m    312\u001b[0m \u001b[0;34m\u001b[0m\u001b[0m\n\u001b[1;32m    313\u001b[0m         \u001b[0;32mreturn\u001b[0m \u001b[0mwrapper\u001b[0m\u001b[0;34m\u001b[0m\u001b[0;34m\u001b[0m\u001b[0m\n",
            "\u001b[0;32m/usr/local/lib/python3.7/dist-packages/pandas/io/html.py\u001b[0m in \u001b[0;36mread_html\u001b[0;34m(io, match, flavor, header, index_col, skiprows, attrs, parse_dates, thousands, encoding, decimal, converters, na_values, keep_default_na, displayed_only)\u001b[0m\n\u001b[1;32m   1111\u001b[0m         \u001b[0mna_values\u001b[0m\u001b[0;34m=\u001b[0m\u001b[0mna_values\u001b[0m\u001b[0;34m,\u001b[0m\u001b[0;34m\u001b[0m\u001b[0;34m\u001b[0m\u001b[0m\n\u001b[1;32m   1112\u001b[0m         \u001b[0mkeep_default_na\u001b[0m\u001b[0;34m=\u001b[0m\u001b[0mkeep_default_na\u001b[0m\u001b[0;34m,\u001b[0m\u001b[0;34m\u001b[0m\u001b[0;34m\u001b[0m\u001b[0m\n\u001b[0;32m-> 1113\u001b[0;31m         \u001b[0mdisplayed_only\u001b[0m\u001b[0;34m=\u001b[0m\u001b[0mdisplayed_only\u001b[0m\u001b[0;34m,\u001b[0m\u001b[0;34m\u001b[0m\u001b[0;34m\u001b[0m\u001b[0m\n\u001b[0m\u001b[1;32m   1114\u001b[0m     )\n",
            "\u001b[0;32m/usr/local/lib/python3.7/dist-packages/pandas/io/html.py\u001b[0m in \u001b[0;36m_parse\u001b[0;34m(flavor, io, match, attrs, encoding, displayed_only, **kwargs)\u001b[0m\n\u001b[1;32m    904\u001b[0m \u001b[0;34m\u001b[0m\u001b[0m\n\u001b[1;32m    905\u001b[0m         \u001b[0;32mtry\u001b[0m\u001b[0;34m:\u001b[0m\u001b[0;34m\u001b[0m\u001b[0;34m\u001b[0m\u001b[0m\n\u001b[0;32m--> 906\u001b[0;31m             \u001b[0mtables\u001b[0m \u001b[0;34m=\u001b[0m \u001b[0mp\u001b[0m\u001b[0;34m.\u001b[0m\u001b[0mparse_tables\u001b[0m\u001b[0;34m(\u001b[0m\u001b[0;34m)\u001b[0m\u001b[0;34m\u001b[0m\u001b[0;34m\u001b[0m\u001b[0m\n\u001b[0m\u001b[1;32m    907\u001b[0m         \u001b[0;32mexcept\u001b[0m \u001b[0mValueError\u001b[0m \u001b[0;32mas\u001b[0m \u001b[0mcaught\u001b[0m\u001b[0;34m:\u001b[0m\u001b[0;34m\u001b[0m\u001b[0;34m\u001b[0m\u001b[0m\n\u001b[1;32m    908\u001b[0m             \u001b[0;31m# if `io` is an io-like object, check if it's seekable\u001b[0m\u001b[0;34m\u001b[0m\u001b[0;34m\u001b[0m\u001b[0;34m\u001b[0m\u001b[0m\n",
            "\u001b[0;32m/usr/local/lib/python3.7/dist-packages/pandas/io/html.py\u001b[0m in \u001b[0;36mparse_tables\u001b[0;34m(self)\u001b[0m\n\u001b[1;32m    220\u001b[0m         \u001b[0mlist\u001b[0m \u001b[0mof\u001b[0m \u001b[0mparsed\u001b[0m \u001b[0;34m(\u001b[0m\u001b[0mheader\u001b[0m\u001b[0;34m,\u001b[0m \u001b[0mbody\u001b[0m\u001b[0;34m,\u001b[0m \u001b[0mfooter\u001b[0m\u001b[0;34m)\u001b[0m \u001b[0mtuples\u001b[0m \u001b[0;32mfrom\u001b[0m \u001b[0mtables\u001b[0m\u001b[0;34m.\u001b[0m\u001b[0;34m\u001b[0m\u001b[0;34m\u001b[0m\u001b[0m\n\u001b[1;32m    221\u001b[0m         \"\"\"\n\u001b[0;32m--> 222\u001b[0;31m         \u001b[0mtables\u001b[0m \u001b[0;34m=\u001b[0m \u001b[0mself\u001b[0m\u001b[0;34m.\u001b[0m\u001b[0m_parse_tables\u001b[0m\u001b[0;34m(\u001b[0m\u001b[0mself\u001b[0m\u001b[0;34m.\u001b[0m\u001b[0m_build_doc\u001b[0m\u001b[0;34m(\u001b[0m\u001b[0;34m)\u001b[0m\u001b[0;34m,\u001b[0m \u001b[0mself\u001b[0m\u001b[0;34m.\u001b[0m\u001b[0mmatch\u001b[0m\u001b[0;34m,\u001b[0m \u001b[0mself\u001b[0m\u001b[0;34m.\u001b[0m\u001b[0mattrs\u001b[0m\u001b[0;34m)\u001b[0m\u001b[0;34m\u001b[0m\u001b[0;34m\u001b[0m\u001b[0m\n\u001b[0m\u001b[1;32m    223\u001b[0m         \u001b[0;32mreturn\u001b[0m \u001b[0;34m(\u001b[0m\u001b[0mself\u001b[0m\u001b[0;34m.\u001b[0m\u001b[0m_parse_thead_tbody_tfoot\u001b[0m\u001b[0;34m(\u001b[0m\u001b[0mtable\u001b[0m\u001b[0;34m)\u001b[0m \u001b[0;32mfor\u001b[0m \u001b[0mtable\u001b[0m \u001b[0;32min\u001b[0m \u001b[0mtables\u001b[0m\u001b[0;34m)\u001b[0m\u001b[0;34m\u001b[0m\u001b[0;34m\u001b[0m\u001b[0m\n\u001b[1;32m    224\u001b[0m \u001b[0;34m\u001b[0m\u001b[0m\n",
            "\u001b[0;32m/usr/local/lib/python3.7/dist-packages/pandas/io/html.py\u001b[0m in \u001b[0;36m_build_doc\u001b[0;34m(self)\u001b[0m\n\u001b[1;32m    743\u001b[0m                     \u001b[0;32mpass\u001b[0m\u001b[0;34m\u001b[0m\u001b[0;34m\u001b[0m\u001b[0m\n\u001b[1;32m    744\u001b[0m             \u001b[0;32melse\u001b[0m\u001b[0;34m:\u001b[0m\u001b[0;34m\u001b[0m\u001b[0;34m\u001b[0m\u001b[0m\n\u001b[0;32m--> 745\u001b[0;31m                 \u001b[0;32mraise\u001b[0m \u001b[0me\u001b[0m\u001b[0;34m\u001b[0m\u001b[0;34m\u001b[0m\u001b[0m\n\u001b[0m\u001b[1;32m    746\u001b[0m         \u001b[0;32melse\u001b[0m\u001b[0;34m:\u001b[0m\u001b[0;34m\u001b[0m\u001b[0;34m\u001b[0m\u001b[0m\n\u001b[1;32m    747\u001b[0m             \u001b[0;32mif\u001b[0m \u001b[0;32mnot\u001b[0m \u001b[0mhasattr\u001b[0m\u001b[0;34m(\u001b[0m\u001b[0mr\u001b[0m\u001b[0;34m,\u001b[0m \u001b[0;34m\"text_content\"\u001b[0m\u001b[0;34m)\u001b[0m\u001b[0;34m:\u001b[0m\u001b[0;34m\u001b[0m\u001b[0;34m\u001b[0m\u001b[0m\n",
            "\u001b[0;32m/usr/local/lib/python3.7/dist-packages/pandas/io/html.py\u001b[0m in \u001b[0;36m_build_doc\u001b[0;34m(self)\u001b[0m\n\u001b[1;32m    724\u001b[0m         \u001b[0;32mtry\u001b[0m\u001b[0;34m:\u001b[0m\u001b[0;34m\u001b[0m\u001b[0;34m\u001b[0m\u001b[0m\n\u001b[1;32m    725\u001b[0m             \u001b[0;32mif\u001b[0m \u001b[0mis_url\u001b[0m\u001b[0;34m(\u001b[0m\u001b[0mself\u001b[0m\u001b[0;34m.\u001b[0m\u001b[0mio\u001b[0m\u001b[0;34m)\u001b[0m\u001b[0;34m:\u001b[0m\u001b[0;34m\u001b[0m\u001b[0;34m\u001b[0m\u001b[0m\n\u001b[0;32m--> 726\u001b[0;31m                 \u001b[0;32mwith\u001b[0m \u001b[0murlopen\u001b[0m\u001b[0;34m(\u001b[0m\u001b[0mself\u001b[0m\u001b[0;34m.\u001b[0m\u001b[0mio\u001b[0m\u001b[0;34m)\u001b[0m \u001b[0;32mas\u001b[0m \u001b[0mf\u001b[0m\u001b[0;34m:\u001b[0m\u001b[0;34m\u001b[0m\u001b[0;34m\u001b[0m\u001b[0m\n\u001b[0m\u001b[1;32m    727\u001b[0m                     \u001b[0mr\u001b[0m \u001b[0;34m=\u001b[0m \u001b[0mparse\u001b[0m\u001b[0;34m(\u001b[0m\u001b[0mf\u001b[0m\u001b[0;34m,\u001b[0m \u001b[0mparser\u001b[0m\u001b[0;34m=\u001b[0m\u001b[0mparser\u001b[0m\u001b[0;34m)\u001b[0m\u001b[0;34m\u001b[0m\u001b[0;34m\u001b[0m\u001b[0m\n\u001b[1;32m    728\u001b[0m             \u001b[0;32melse\u001b[0m\u001b[0;34m:\u001b[0m\u001b[0;34m\u001b[0m\u001b[0;34m\u001b[0m\u001b[0m\n",
            "\u001b[0;32m/usr/local/lib/python3.7/dist-packages/pandas/io/common.py\u001b[0m in \u001b[0;36murlopen\u001b[0;34m(*args, **kwargs)\u001b[0m\n\u001b[1;32m    210\u001b[0m     \u001b[0;32mimport\u001b[0m \u001b[0murllib\u001b[0m\u001b[0;34m.\u001b[0m\u001b[0mrequest\u001b[0m\u001b[0;34m\u001b[0m\u001b[0;34m\u001b[0m\u001b[0m\n\u001b[1;32m    211\u001b[0m \u001b[0;34m\u001b[0m\u001b[0m\n\u001b[0;32m--> 212\u001b[0;31m     \u001b[0;32mreturn\u001b[0m \u001b[0murllib\u001b[0m\u001b[0;34m.\u001b[0m\u001b[0mrequest\u001b[0m\u001b[0;34m.\u001b[0m\u001b[0murlopen\u001b[0m\u001b[0;34m(\u001b[0m\u001b[0;34m*\u001b[0m\u001b[0margs\u001b[0m\u001b[0;34m,\u001b[0m \u001b[0;34m**\u001b[0m\u001b[0mkwargs\u001b[0m\u001b[0;34m)\u001b[0m\u001b[0;34m\u001b[0m\u001b[0;34m\u001b[0m\u001b[0m\n\u001b[0m\u001b[1;32m    213\u001b[0m \u001b[0;34m\u001b[0m\u001b[0m\n\u001b[1;32m    214\u001b[0m \u001b[0;34m\u001b[0m\u001b[0m\n",
            "\u001b[0;32m/usr/lib/python3.7/urllib/request.py\u001b[0m in \u001b[0;36murlopen\u001b[0;34m(url, data, timeout, cafile, capath, cadefault, context)\u001b[0m\n\u001b[1;32m    220\u001b[0m     \u001b[0;32melse\u001b[0m\u001b[0;34m:\u001b[0m\u001b[0;34m\u001b[0m\u001b[0;34m\u001b[0m\u001b[0m\n\u001b[1;32m    221\u001b[0m         \u001b[0mopener\u001b[0m \u001b[0;34m=\u001b[0m \u001b[0m_opener\u001b[0m\u001b[0;34m\u001b[0m\u001b[0;34m\u001b[0m\u001b[0m\n\u001b[0;32m--> 222\u001b[0;31m     \u001b[0;32mreturn\u001b[0m \u001b[0mopener\u001b[0m\u001b[0;34m.\u001b[0m\u001b[0mopen\u001b[0m\u001b[0;34m(\u001b[0m\u001b[0murl\u001b[0m\u001b[0;34m,\u001b[0m \u001b[0mdata\u001b[0m\u001b[0;34m,\u001b[0m \u001b[0mtimeout\u001b[0m\u001b[0;34m)\u001b[0m\u001b[0;34m\u001b[0m\u001b[0;34m\u001b[0m\u001b[0m\n\u001b[0m\u001b[1;32m    223\u001b[0m \u001b[0;34m\u001b[0m\u001b[0m\n\u001b[1;32m    224\u001b[0m \u001b[0;32mdef\u001b[0m \u001b[0minstall_opener\u001b[0m\u001b[0;34m(\u001b[0m\u001b[0mopener\u001b[0m\u001b[0;34m)\u001b[0m\u001b[0;34m:\u001b[0m\u001b[0;34m\u001b[0m\u001b[0;34m\u001b[0m\u001b[0m\n",
            "\u001b[0;32m/usr/lib/python3.7/urllib/request.py\u001b[0m in \u001b[0;36mopen\u001b[0;34m(self, fullurl, data, timeout)\u001b[0m\n\u001b[1;32m    529\u001b[0m         \u001b[0;32mfor\u001b[0m \u001b[0mprocessor\u001b[0m \u001b[0;32min\u001b[0m \u001b[0mself\u001b[0m\u001b[0;34m.\u001b[0m\u001b[0mprocess_response\u001b[0m\u001b[0;34m.\u001b[0m\u001b[0mget\u001b[0m\u001b[0;34m(\u001b[0m\u001b[0mprotocol\u001b[0m\u001b[0;34m,\u001b[0m \u001b[0;34m[\u001b[0m\u001b[0;34m]\u001b[0m\u001b[0;34m)\u001b[0m\u001b[0;34m:\u001b[0m\u001b[0;34m\u001b[0m\u001b[0;34m\u001b[0m\u001b[0m\n\u001b[1;32m    530\u001b[0m             \u001b[0mmeth\u001b[0m \u001b[0;34m=\u001b[0m \u001b[0mgetattr\u001b[0m\u001b[0;34m(\u001b[0m\u001b[0mprocessor\u001b[0m\u001b[0;34m,\u001b[0m \u001b[0mmeth_name\u001b[0m\u001b[0;34m)\u001b[0m\u001b[0;34m\u001b[0m\u001b[0;34m\u001b[0m\u001b[0m\n\u001b[0;32m--> 531\u001b[0;31m             \u001b[0mresponse\u001b[0m \u001b[0;34m=\u001b[0m \u001b[0mmeth\u001b[0m\u001b[0;34m(\u001b[0m\u001b[0mreq\u001b[0m\u001b[0;34m,\u001b[0m \u001b[0mresponse\u001b[0m\u001b[0;34m)\u001b[0m\u001b[0;34m\u001b[0m\u001b[0;34m\u001b[0m\u001b[0m\n\u001b[0m\u001b[1;32m    532\u001b[0m \u001b[0;34m\u001b[0m\u001b[0m\n\u001b[1;32m    533\u001b[0m         \u001b[0;32mreturn\u001b[0m \u001b[0mresponse\u001b[0m\u001b[0;34m\u001b[0m\u001b[0;34m\u001b[0m\u001b[0m\n",
            "\u001b[0;32m/usr/lib/python3.7/urllib/request.py\u001b[0m in \u001b[0;36mhttp_response\u001b[0;34m(self, request, response)\u001b[0m\n\u001b[1;32m    639\u001b[0m         \u001b[0;32mif\u001b[0m \u001b[0;32mnot\u001b[0m \u001b[0;34m(\u001b[0m\u001b[0;36m200\u001b[0m \u001b[0;34m<=\u001b[0m \u001b[0mcode\u001b[0m \u001b[0;34m<\u001b[0m \u001b[0;36m300\u001b[0m\u001b[0;34m)\u001b[0m\u001b[0;34m:\u001b[0m\u001b[0;34m\u001b[0m\u001b[0;34m\u001b[0m\u001b[0m\n\u001b[1;32m    640\u001b[0m             response = self.parent.error(\n\u001b[0;32m--> 641\u001b[0;31m                 'http', request, response, code, msg, hdrs)\n\u001b[0m\u001b[1;32m    642\u001b[0m \u001b[0;34m\u001b[0m\u001b[0m\n\u001b[1;32m    643\u001b[0m         \u001b[0;32mreturn\u001b[0m \u001b[0mresponse\u001b[0m\u001b[0;34m\u001b[0m\u001b[0;34m\u001b[0m\u001b[0m\n",
            "\u001b[0;32m/usr/lib/python3.7/urllib/request.py\u001b[0m in \u001b[0;36merror\u001b[0;34m(self, proto, *args)\u001b[0m\n\u001b[1;32m    567\u001b[0m         \u001b[0;32mif\u001b[0m \u001b[0mhttp_err\u001b[0m\u001b[0;34m:\u001b[0m\u001b[0;34m\u001b[0m\u001b[0;34m\u001b[0m\u001b[0m\n\u001b[1;32m    568\u001b[0m             \u001b[0margs\u001b[0m \u001b[0;34m=\u001b[0m \u001b[0;34m(\u001b[0m\u001b[0mdict\u001b[0m\u001b[0;34m,\u001b[0m \u001b[0;34m'default'\u001b[0m\u001b[0;34m,\u001b[0m \u001b[0;34m'http_error_default'\u001b[0m\u001b[0;34m)\u001b[0m \u001b[0;34m+\u001b[0m \u001b[0morig_args\u001b[0m\u001b[0;34m\u001b[0m\u001b[0;34m\u001b[0m\u001b[0m\n\u001b[0;32m--> 569\u001b[0;31m             \u001b[0;32mreturn\u001b[0m \u001b[0mself\u001b[0m\u001b[0;34m.\u001b[0m\u001b[0m_call_chain\u001b[0m\u001b[0;34m(\u001b[0m\u001b[0;34m*\u001b[0m\u001b[0margs\u001b[0m\u001b[0;34m)\u001b[0m\u001b[0;34m\u001b[0m\u001b[0;34m\u001b[0m\u001b[0m\n\u001b[0m\u001b[1;32m    570\u001b[0m \u001b[0;34m\u001b[0m\u001b[0m\n\u001b[1;32m    571\u001b[0m \u001b[0;31m# XXX probably also want an abstract factory that knows when it makes\u001b[0m\u001b[0;34m\u001b[0m\u001b[0;34m\u001b[0m\u001b[0;34m\u001b[0m\u001b[0m\n",
            "\u001b[0;32m/usr/lib/python3.7/urllib/request.py\u001b[0m in \u001b[0;36m_call_chain\u001b[0;34m(self, chain, kind, meth_name, *args)\u001b[0m\n\u001b[1;32m    501\u001b[0m         \u001b[0;32mfor\u001b[0m \u001b[0mhandler\u001b[0m \u001b[0;32min\u001b[0m \u001b[0mhandlers\u001b[0m\u001b[0;34m:\u001b[0m\u001b[0;34m\u001b[0m\u001b[0;34m\u001b[0m\u001b[0m\n\u001b[1;32m    502\u001b[0m             \u001b[0mfunc\u001b[0m \u001b[0;34m=\u001b[0m \u001b[0mgetattr\u001b[0m\u001b[0;34m(\u001b[0m\u001b[0mhandler\u001b[0m\u001b[0;34m,\u001b[0m \u001b[0mmeth_name\u001b[0m\u001b[0;34m)\u001b[0m\u001b[0;34m\u001b[0m\u001b[0;34m\u001b[0m\u001b[0m\n\u001b[0;32m--> 503\u001b[0;31m             \u001b[0mresult\u001b[0m \u001b[0;34m=\u001b[0m \u001b[0mfunc\u001b[0m\u001b[0;34m(\u001b[0m\u001b[0;34m*\u001b[0m\u001b[0margs\u001b[0m\u001b[0;34m)\u001b[0m\u001b[0;34m\u001b[0m\u001b[0;34m\u001b[0m\u001b[0m\n\u001b[0m\u001b[1;32m    504\u001b[0m             \u001b[0;32mif\u001b[0m \u001b[0mresult\u001b[0m \u001b[0;32mis\u001b[0m \u001b[0;32mnot\u001b[0m \u001b[0;32mNone\u001b[0m\u001b[0;34m:\u001b[0m\u001b[0;34m\u001b[0m\u001b[0;34m\u001b[0m\u001b[0m\n\u001b[1;32m    505\u001b[0m                 \u001b[0;32mreturn\u001b[0m \u001b[0mresult\u001b[0m\u001b[0;34m\u001b[0m\u001b[0;34m\u001b[0m\u001b[0m\n",
            "\u001b[0;32m/usr/lib/python3.7/urllib/request.py\u001b[0m in \u001b[0;36mhttp_error_default\u001b[0;34m(self, req, fp, code, msg, hdrs)\u001b[0m\n\u001b[1;32m    647\u001b[0m \u001b[0;32mclass\u001b[0m \u001b[0mHTTPDefaultErrorHandler\u001b[0m\u001b[0;34m(\u001b[0m\u001b[0mBaseHandler\u001b[0m\u001b[0;34m)\u001b[0m\u001b[0;34m:\u001b[0m\u001b[0;34m\u001b[0m\u001b[0;34m\u001b[0m\u001b[0m\n\u001b[1;32m    648\u001b[0m     \u001b[0;32mdef\u001b[0m \u001b[0mhttp_error_default\u001b[0m\u001b[0;34m(\u001b[0m\u001b[0mself\u001b[0m\u001b[0;34m,\u001b[0m \u001b[0mreq\u001b[0m\u001b[0;34m,\u001b[0m \u001b[0mfp\u001b[0m\u001b[0;34m,\u001b[0m \u001b[0mcode\u001b[0m\u001b[0;34m,\u001b[0m \u001b[0mmsg\u001b[0m\u001b[0;34m,\u001b[0m \u001b[0mhdrs\u001b[0m\u001b[0;34m)\u001b[0m\u001b[0;34m:\u001b[0m\u001b[0;34m\u001b[0m\u001b[0;34m\u001b[0m\u001b[0m\n\u001b[0;32m--> 649\u001b[0;31m         \u001b[0;32mraise\u001b[0m \u001b[0mHTTPError\u001b[0m\u001b[0;34m(\u001b[0m\u001b[0mreq\u001b[0m\u001b[0;34m.\u001b[0m\u001b[0mfull_url\u001b[0m\u001b[0;34m,\u001b[0m \u001b[0mcode\u001b[0m\u001b[0;34m,\u001b[0m \u001b[0mmsg\u001b[0m\u001b[0;34m,\u001b[0m \u001b[0mhdrs\u001b[0m\u001b[0;34m,\u001b[0m \u001b[0mfp\u001b[0m\u001b[0;34m)\u001b[0m\u001b[0;34m\u001b[0m\u001b[0;34m\u001b[0m\u001b[0m\n\u001b[0m\u001b[1;32m    650\u001b[0m \u001b[0;34m\u001b[0m\u001b[0m\n\u001b[1;32m    651\u001b[0m \u001b[0;32mclass\u001b[0m \u001b[0mHTTPRedirectHandler\u001b[0m\u001b[0;34m(\u001b[0m\u001b[0mBaseHandler\u001b[0m\u001b[0;34m)\u001b[0m\u001b[0;34m:\u001b[0m\u001b[0;34m\u001b[0m\u001b[0;34m\u001b[0m\u001b[0m\n",
            "\u001b[0;31mHTTPError\u001b[0m: HTTP Error 403: Forbidden"
          ]
        }
      ]
    },
    {
      "cell_type": "code",
      "source": [
        "                          \n"
      ],
      "metadata": {
        "colab": {
          "base_uri": "https://localhost:8080/"
        },
        "id": "WBuX1TPT-KaL",
        "outputId": "7fa8576a-94db-4ae6-f597-d3825d99279f"
      },
      "execution_count": null,
      "outputs": [
        {
          "output_type": "execute_result",
          "data": {
            "text/plain": [
              "b'<!DOCTYPE HTML PUBLIC \"-//W3C//DTD HTML 4.01 Transitional//EN\" \"http://www.w3.org/TR/html4/loose.dtd\">\\n<html xmlns=\"http://www.w3.org/1999/xhtml\">\\n<head>\\n<meta http-equiv=\"Content-Type\" content=\"text/html; charset=utf-8\" />\\n<meta http-equiv=\"Last-Modified\" content=\"Mon, 28 Oct 2019 23:02:44 GMT\" />\\n<title>EDGAR Filing Documents for 0001652044-19-000032</title>\\n<link rel=\"stylesheet\" type=\"text/css\" href=\"/include/interactive.css\" />\\n<script >bazadebezolkohpepadr=\"226810041\"</script><script type=\"text/javascript\" src=\"https://www.sec.gov/akam/13/d84da8f\"  defer></script></head>\\n<body style=\"margin: 0\">\\n<!-- SEC Web Analytics - For information please visit: https://www.sec.gov/privacy.htm#collectedinfo -->\\n<noscript><iframe src=\"//www.googletagmanager.com/ns.html?id=GTM-TD3BKV\"\\nheight=\"0\" width=\"0\" style=\"display:none;visibility:hidden\"></iframe></noscript>\\n<script>(function(w,d,s,l,i){w[l]=w[l]||[];w[l].push({\\'gtm.start\\':\\nnew Date().getTime(),event:\\'gtm.js\\'});var f=d.getElementsByTagName(s)[0],\\nj=d.createElement(s),dl=l!=\\'dataLayer\\'?\\'&l=\\'+l:\\'\\';j.async=true;j.src=\\n\\'//www.googletagmanager.com/gtm.js?id=\\'+i+dl;f.parentNode.insertBefore(j,f);\\n})(window,document,\\'script\\',\\'dataLayer\\',\\'GTM-TD3BKV\\');</script>\\n<!-- End SEC Web Analytics -->\\n<noscript><div style=\"color:red; font-weight:bold; text-align:center;\">This page uses Javascript. Your browser either doesn\\'t support Javascript or you have it turned off. To see this page as it is meant to appear please use a Javascript enabled browser.</div></noscript>\\n<!-- BEGIN BANNER -->\\n<div id=\"headerTop\">\\n   <div id=\"Nav\"><a href=\"/index.htm\">Home</a> | <a href=\"/cgi-bin/browse-edgar?action=getcurrent\">Latest Filings</a> | <a href=\"javascript:history.back()\">Previous Page</a></div>\\n   <div id=\"seal\"><a href=\"/index.htm\"><img src=\"/images/sealTop.gif\" alt=\"SEC Seal\" border=\"0\" /></a></div>\\n   <div id=\"secWordGraphic\"><img src=\"/images/bannerTitle.gif\" alt=\"SEC Banner\" /></div>\\n</div>\\n<div id=\"headerBottom\">\\n   <div id=\"searchHome\"><a href=\"/edgar/searchedgar/webusers.htm\">Search the Next-Generation EDGAR System</a></div>\\n   <div id=\"PageTitle\">Filing Detail</div>\\n</div>\\n<!-- END BANNER -->\\n\\n\\n<!-- BEGIN BREADCRUMBS -->\\n<div id=\"breadCrumbs\">\\n   <ul>\\n      <li><a href=\"/index.htm\">SEC Home</a> &#187;</li>\\n      <li><a href=\"/edgar/searchedgar/webusers.htm\">Search the Next-Generation EDGAR System</a> &#187;</li>\\n      <li><a href=\"/edgar/searchedgar/companysearch.html\">Company Search</a> &#187;</li>\\n      <li class=\"last\">Current Page</li>\\n   </ul>\\n</div>\\n<!-- END BREADCRUMBS -->\\n\\n<div id=\"contentDiv\">\\n<!-- START FILING DIV -->\\n<div id=\"formDiv\">\\n   <div id=\"formHeader\">\\n      <div id=\"formName\">\\n         <strong>Form 10-Q</strong> - Quarterly report [Sections 13 or 15(d)]: \\n      </div>\\n      <div id=\"secNum\">\\n         <strong><acronym title=\"Securities and Exchange Commission\">SEC</acronym> Accession <acronym title=\"Number\">No.</acronym></strong> 0001652044-19-000032\\n      </div>\\n   </div>\\n   <div class=\"formContent\">\\n      <div class=\"formGrouping\">\\n         <div class=\"infoHead\">Filing Date</div>\\n         <div class=\"info\">2019-10-29</div>\\n         <div class=\"infoHead\">Accepted</div>\\n         <div class=\"info\">2019-10-28 19:02:44</div>\\n         <div class=\"infoHead\">Documents</div>\\n         <div class=\"info\">91</div>\\n      </div>\\n      <div class=\"formGrouping\">\\n         <div class=\"infoHead\">Period of Report</div>\\n         <div class=\"info\">2019-09-30</div>\\n      </div>\\n      <div style=\"clear:both\"></div>\\n   </div>\\n</div>\\n<!-- END FILING DIV -->\\n<!-- START DOCUMENT DIV -->\\n<div style=\"margin: 10px 0px 10px 0px; border: solid 1px #3F509D; background-color: #F5F5EB;\">\\n   <div style=\"padding: 4px 0px 4px 0px; font-size: 12px; margin: 0px 2px 0px 5px; width: 100%; overflow:hidden\" id=\"seriesDiv\">\\n      <a href=\"/cgi-bin/viewer?action=view&amp;cik=1652044&amp;accession_number=0001652044-19-000032&amp;xbrl_type=v\" id=\"interactiveDataBtn\">&nbsp;Interactive Data</a>\\n   </div>\\n</div>\\n<div id=\"formDiv\">\\n   <div style=\"padding: 0px 0px 4px 0px; font-size: 12px; margin: 0px 2px 0px 5px; width: 100%; overflow:hidden\">\\n      <p>Document Format Files</p>\\n      <table class=\"tableFile\" summary=\"Document Format Files\">\\n         <tr>\\n            <th scope=\"col\" style=\"width: 5%;\"><acronym title=\"Sequence Number\">Seq</acronym></th>\\n            <th scope=\"col\" style=\"width: 40%;\">Description</th>\\n            <th scope=\"col\" style=\"width: 20%;\">Document</th>\\n            <th scope=\"col\" style=\"width: 10%;\">Type</th>\\n            <th scope=\"col\">Size</th>\\n         </tr>\\n         <tr>\\n            <td scope=\"row\">1</td>\\n            <td scope=\"row\">10-Q</td>\\n            <td scope=\"row\"><a href=\"/ix?doc=/Archives/edgar/data/1652044/000165204419000032/goog10-qq32019.htm\">goog10-qq32019.htm</a> &nbsp;&nbsp;<span style=\"color: green\">iXBRL</span></td>\\n            <td scope=\"row\">10-Q</td>\\n            <td scope=\"row\">2823796</td>\\n         </tr>\\n         <tr class=\"blueRow\">\\n            <td scope=\"row\">2</td>\\n            <td scope=\"row\">EXHIBIT 31.01</td>\\n            <td scope=\"row\"><a href=\"/Archives/edgar/data/1652044/000165204419000032/googexhibit3101q32019.htm\">googexhibit3101q32019.htm</a></td>\\n            <td scope=\"row\">EX-31.01</td>\\n            <td scope=\"row\">12397</td>\\n         </tr>\\n         <tr>\\n            <td scope=\"row\">3</td>\\n            <td scope=\"row\">EXHIBIT 31.02</td>\\n            <td scope=\"row\"><a href=\"/Archives/edgar/data/1652044/000165204419000032/googexhibit3102q32019.htm\">googexhibit3102q32019.htm</a></td>\\n            <td scope=\"row\">EX-31.02</td>\\n            <td scope=\"row\">12646</td>\\n         </tr>\\n         <tr class=\"blueRow\">\\n            <td scope=\"row\">4</td>\\n            <td scope=\"row\">EXHIBIT 32.01</td>\\n            <td scope=\"row\"><a href=\"/Archives/edgar/data/1652044/000165204419000032/googexhibit3201q32019.htm\">googexhibit3201q32019.htm</a></td>\\n            <td scope=\"row\">EX-32.01</td>\\n            <td scope=\"row\">9855</td>\\n         </tr>\\n         <tr>\\n            <td scope=\"row\">&nbsp;</td>\\n            <td scope=\"row\">Complete submission text file</td>\\n            <td scope=\"row\"><a href=\"/Archives/edgar/data/1652044/000165204419000032/0001652044-19-000032.txt\">0001652044-19-000032.txt</a></td>\\n            <td scope=\"row\">&nbsp;</td>\\n            <td scope=\"row\">13347059</td>\\n         </tr>\\n      </table>\\t\\n   </div>\\n</div>\\n<div id=\"formDiv\">\\n   <div style=\"padding: 0px 0px 4px 0px; font-size: 12px; margin: 0px 2px 0px 5px; width: 100%; overflow:hidden\">\\n      <p>Data Files</p>\\n      <table class=\"tableFile\" summary=\"Data Files\">\\n         <tr>\\n            <th scope=\"col\" style=\"width: 5%;\"><acronym title=\"Sequence Number\">Seq</acronym></th>\\n            <th scope=\"col\" style=\"width: 40%;\">Description</th>\\n            <th scope=\"col\" style=\"width: 20%;\">Document</th>\\n            <th scope=\"col\" style=\"width: 10%;\">Type</th>\\n            <th scope=\"col\">Size</th>\\n         </tr>\\n         <tr>\\n            <td scope=\"row\">5</td>\\n            <td scope=\"row\">XBRL TAXONOMY EXTENSION SCHEMA DOCUMENT</td>\\n            <td scope=\"row\"><a href=\"/Archives/edgar/data/1652044/000165204419000032/goog-20190930.xsd\">goog-20190930.xsd</a></td>\\n            <td scope=\"row\">EX-101.SCH</td>\\n            <td scope=\"row\">59869</td>\\n         </tr>\\n         <tr class=\"blueRow\">\\n            <td scope=\"row\">6</td>\\n            <td scope=\"row\">XBRL TAXONOMY EXTENSION CALCULATION LINKBASE DOCUMENT</td>\\n            <td scope=\"row\"><a href=\"/Archives/edgar/data/1652044/000165204419000032/goog-20190930_cal.xml\">goog-20190930_cal.xml</a></td>\\n            <td scope=\"row\">EX-101.CAL</td>\\n            <td scope=\"row\">136535</td>\\n         </tr>\\n         <tr>\\n            <td scope=\"row\">7</td>\\n            <td scope=\"row\">XBRL TAXONOMY EXTENSION DEFINITION LINKBASE DOCUMENT</td>\\n            <td scope=\"row\"><a href=\"/Archives/edgar/data/1652044/000165204419000032/goog-20190930_def.xml\">goog-20190930_def.xml</a></td>\\n            <td scope=\"row\">EX-101.DEF</td>\\n            <td scope=\"row\">365747</td>\\n         </tr>\\n         <tr class=\"blueRow\">\\n            <td scope=\"row\">8</td>\\n            <td scope=\"row\">XBRL TAXONOMY EXTENSION LABEL LINKBASE DOCUMENT</td>\\n            <td scope=\"row\"><a href=\"/Archives/edgar/data/1652044/000165204419000032/goog-20190930_lab.xml\">goog-20190930_lab.xml</a></td>\\n            <td scope=\"row\">EX-101.LAB</td>\\n            <td scope=\"row\">905670</td>\\n         </tr>\\n         <tr>\\n            <td scope=\"row\">9</td>\\n            <td scope=\"row\">XBRL TAXONOMY EXTENSION PRESENTATION LINKBASE DOCUMENT</td>\\n            <td scope=\"row\"><a href=\"/Archives/edgar/data/1652044/000165204419000032/goog-20190930_pre.xml\">goog-20190930_pre.xml</a></td>\\n            <td scope=\"row\">EX-101.PRE</td>\\n            <td scope=\"row\">545474</td>\\n         </tr>\\n         <tr class=\"blueRow\">\\n            <td scope=\"row\">93</td>\\n            <td scope=\"row\"><b>EXTRACTED</b> XBRL INSTANCE DOCUMENT</td>\\n            <td scope=\"row\"><a href=\"/Archives/edgar/data/1652044/000165204419000032/goog10-qq32019_htm.xml\">goog10-qq32019_htm.xml</a></td>\\n            <td scope=\"row\">XML</td>\\n            <td scope=\"row\">3279321</td>\\n         </tr>\\n      </table>\\t\\n   </div>\\n</div>\\n<!-- END DOCUMENT DIV -->\\n<!-- START FILER DIV -->\\n<div id=\"filerDiv\">\\n   <div class=\"mailer\">Mailing Address\\n      <span class=\"mailerAddress\">1600 AMPHITHEATRE PARKWAY</span>\\n      <span class=\"mailerAddress\">\\nMOUNTAIN VIEW CA 94043      </span>\\n   </div>\\n   <div class=\"mailer\">Business Address\\n      <span class=\"mailerAddress\">1600 AMPHITHEATRE PARKWAY</span>\\n      <span class=\"mailerAddress\">\\nMOUNTAIN VIEW CA 94043      </span>\\n      <span class=\"mailerAddress\">650-253-0000</span>\\n   </div>\\n<div class=\"companyInfo\">\\n  <span class=\"companyName\">Alphabet Inc. (Filer)\\n <acronym title=\"Central Index Key\">CIK</acronym>: <a href=\"/cgi-bin/browse-edgar?CIK=0001652044&amp;action=getcompany\">0001652044 (see all company filings)</a></span>\\n<p class=\"identInfo\"><acronym title=\"Internal Revenue Service Number\">IRS No.</acronym>: <strong>611767919</strong> | State of Incorp.: <strong>DE</strong> | Fiscal Year End: <strong>1231</strong><br />Type: <strong>10-Q</strong> | Act: <strong>34</strong> | File No.: <a href=\"/cgi-bin/browse-edgar?filenum=001-37580&amp;action=getcompany\"><strong>001-37580</strong></a> | Film No.: <strong>191174141</strong><br /><acronym title=\"Standard Industrial Code\">SIC</acronym>: <b><a href=\"/cgi-bin/browse-edgar?action=getcompany&amp;SIC=7370&amp;owner=include\">7370</a></b> Services-Computer Programming, Data Processing, Etc.<br />Office of Technology</p>\\n</div>\\n<div class=\"clear\"></div>\\n</div>\\n<!-- END FILER DIV -->\\n</div>\\n'"
            ]
          },
          "metadata": {},
          "execution_count": 42
        }
      ]
    }
  ]
}